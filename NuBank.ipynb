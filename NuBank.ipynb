{
  "nbformat": 4,
  "nbformat_minor": 0,
  "metadata": {
    "colab": {
      "name": "NuBank",
      "provenance": [],
      "collapsed_sections": []
    },
    "kernelspec": {
      "name": "python3",
      "display_name": "Python 3"
    }
  },
  "cells": [
    {
      "cell_type": "code",
      "metadata": {
        "id": "OzuQkvLRwiEu",
        "colab_type": "code",
        "colab": {}
      },
      "source": [
        "import os"
      ],
      "execution_count": null,
      "outputs": []
    },
    {
      "cell_type": "markdown",
      "metadata": {
        "id": "tqS5KGSMfO-J",
        "colab_type": "text"
      },
      "source": [
        "# Informe os dados de sua Nuconta: </br>\n",
        "- O CPF não deve conter pontos e traços </br>\n",
        "- A senha deve contém 8 dígitos, é a mesma senha utilizada para logar no Nubank web </br>\n",
        "- Coloque os dados entre as aspas\n",
        "\n"
      ]
    },
    {
      "cell_type": "code",
      "metadata": {
        "id": "e6vFyh3QpS7j",
        "colab_type": "code",
        "colab": {}
      },
      "source": [
        "cpf = '' \n",
        "senha = ''"
      ],
      "execution_count": null,
      "outputs": []
    },
    {
      "cell_type": "code",
      "metadata": {
        "id": "kC2XX-icokmo",
        "colab_type": "code",
        "colab": {
          "base_uri": "https://localhost:8080/",
          "height": 255
        },
        "outputId": "a197735c-1181-48e1-bd7c-ee02bf4729cd"
      },
      "source": [
        "!pip install pynubank"
      ],
      "execution_count": null,
      "outputs": [
        {
          "output_type": "stream",
          "text": [
            "Requirement already satisfied: pynubank in /usr/local/lib/python3.6/dist-packages (2.4.0)\n",
            "Requirement already satisfied: pyOpenSSL in /usr/local/lib/python3.6/dist-packages (from pynubank) (19.1.0)\n",
            "Requirement already satisfied: requests-pkcs12 in /usr/local/lib/python3.6/dist-packages (from pynubank) (1.8)\n",
            "Requirement already satisfied: colorama in /usr/local/lib/python3.6/dist-packages (from pynubank) (0.4.3)\n",
            "Requirement already satisfied: requests in /usr/local/lib/python3.6/dist-packages (from pynubank) (2.23.0)\n",
            "Requirement already satisfied: qrcode in /usr/local/lib/python3.6/dist-packages (from pynubank) (6.1)\n",
            "Requirement already satisfied: cryptography>=2.8 in /usr/local/lib/python3.6/dist-packages (from pyOpenSSL->pynubank) (3.1)\n",
            "Requirement already satisfied: six>=1.5.2 in /usr/local/lib/python3.6/dist-packages (from pyOpenSSL->pynubank) (1.15.0)\n",
            "Requirement already satisfied: certifi>=2017.4.17 in /usr/local/lib/python3.6/dist-packages (from requests->pynubank) (2020.6.20)\n",
            "Requirement already satisfied: urllib3!=1.25.0,!=1.25.1,<1.26,>=1.21.1 in /usr/local/lib/python3.6/dist-packages (from requests->pynubank) (1.24.3)\n",
            "Requirement already satisfied: chardet<4,>=3.0.2 in /usr/local/lib/python3.6/dist-packages (from requests->pynubank) (3.0.4)\n",
            "Requirement already satisfied: idna<3,>=2.5 in /usr/local/lib/python3.6/dist-packages (from requests->pynubank) (2.10)\n",
            "Requirement already satisfied: cffi!=1.11.3,>=1.8 in /usr/local/lib/python3.6/dist-packages (from cryptography>=2.8->pyOpenSSL->pynubank) (1.14.2)\n",
            "Requirement already satisfied: pycparser in /usr/local/lib/python3.6/dist-packages (from cffi!=1.11.3,>=1.8->cryptography>=2.8->pyOpenSSL->pynubank) (2.20)\n"
          ],
          "name": "stdout"
        }
      ]
    },
    {
      "cell_type": "markdown",
      "metadata": {
        "id": "plyqhjuHg_6V",
        "colab_type": "text"
      },
      "source": [
        "##Importante\n",
        "Nesse momento será printado o QRCode no console </br>\n",
        "Você precisa escanear pelo o seu app do celular </br>\n",
        "Esse menu fica em NU > Perfil > Acesso pelo site </br>"
      ]
    },
    {
      "cell_type": "code",
      "metadata": {
        "id": "uWvMq3uGorQc",
        "colab_type": "code",
        "colab": {
          "base_uri": "https://localhost:8080/",
          "height": 357
        },
        "outputId": "05da386e-c39b-4847-d2f5-fb29bdfa6b65"
      },
      "source": [
        "from pynubank import Nubank\n",
        "\n",
        "nu = Nubank()\n",
        "uuid, qr_code = nu.get_qr_code()\n",
        "qr_code.print_ascii(invert=True)\n",
        "input('Após escanear o QRCode pressione enter para continuar')\n",
        "nu.authenticate_with_qr_code(cpf, senha, uuid)"
      ],
      "execution_count": null,
      "outputs": [
        {
          "output_type": "stream",
          "text": [
            "█████████████████████████████████████\n",
            "█████████████████████████████████████\n",
            "████ ▄▄▄▄▄ ██▀▀▀  ▀ █▀▀▄▀█ ▄▄▄▄▄ ████\n",
            "████ █   █ █ █▀ ▀▄▀  ▀▀███ █   █ ████\n",
            "████ █▄▄▄█ █   ▀▄██▀▀▄▄▄▄█ █▄▄▄█ ████\n",
            "████▄▄▄▄▄▄▄█ ▀ ▀▄█ ▀▄█▄▀ █▄▄▄▄▄▄▄████\n",
            "████ ▀ ▄  ▄█▀ █ ▄▀▀█▄▄▄▀▀█ ▄  ▄▀▀████\n",
            "████▀▀█▀ ▄▄█ █▀▀▄ ▄▄█████▀▀▀ █▄▀▀████\n",
            "█████▀ ▀▀▀▄█  █▀▀█▄▄▄ ▄ ▄ ▀▀▀▄  ▀████\n",
            "█████▀▄▀▄ ▄ ▀▄▀▄██▀ ██ █ █▄▄  █▀▀████\n",
            "████  ▀█ █▄▀▀▄▄  ▀▀▄▄▄▄ █▄▀▀▀█▄▄▀████\n",
            "████ █  ▄█▄▄▄ ▄█▄ ▄▄▀▄██▀▀█▀▀ █ █████\n",
            "████▄███▄▄▄█▀▄ ▀▄█▄▄▀▄▄▀ ▄▄▄ █▄▀▀████\n",
            "████ ▄▄▄▄▄ █▀▄▄ ▀█▀▄██▀▄ █▄█ █▄▀█████\n",
            "████ █   █ █  ▄▄ █▀▄▀▄▀█ ▄▄ ▄ ▄▀▀████\n",
            "████ █▄▄▄█ █▄▀ ▀█ █ █▄▀▀▀▄▄▀ █▄ █████\n",
            "████▄▄▄▄▄▄▄█▄▄██▄▄▄█▄▄▄██▄▄▄██▄██████\n",
            "█████████████████████████████████████\n",
            "▀▀▀▀▀▀▀▀▀▀▀▀▀▀▀▀▀▀▀▀▀▀▀▀▀▀▀▀▀▀▀▀▀▀▀▀▀\n",
            "Após escanear o QRCode pressione enter para continuar\n"
          ],
          "name": "stdout"
        }
      ]
    },
    {
      "cell_type": "code",
      "metadata": {
        "id": "NrpUm7Jlo6ei",
        "colab_type": "code",
        "colab": {}
      },
      "source": [
        "card_statements = nu.get_card_statements()\n",
        "account_statements = nu.get_account_statements()"
      ],
      "execution_count": null,
      "outputs": []
    },
    {
      "cell_type": "markdown",
      "metadata": {
        "id": "NkKEGpft1uUK",
        "colab_type": "text"
      },
      "source": [
        "Pegando informaçãoes sobre o cartão de crédito\n"
      ]
    },
    {
      "cell_type": "code",
      "metadata": {
        "id": "q-tOydl3px3y",
        "colab_type": "code",
        "colab": {
          "base_uri": "https://localhost:8080/",
          "height": 34
        },
        "outputId": "7947f431-728c-4760-a48d-5bc8bae1abbb"
      },
      "source": [
        "try:\n",
        "  os.remove(\"cartao.txt\")\n",
        "except:\n",
        "  print('Arquivo não existente')"
      ],
      "execution_count": null,
      "outputs": [
        {
          "output_type": "stream",
          "text": [
            "Arquivo não existente\n"
          ],
          "name": "stdout"
        }
      ]
    },
    {
      "cell_type": "code",
      "metadata": {
        "id": "K2_TANnM7H1s",
        "colab_type": "code",
        "colab": {}
      },
      "source": [
        "arquivo = open('cartao.txt', 'w')"
      ],
      "execution_count": null,
      "outputs": []
    },
    {
      "cell_type": "code",
      "metadata": {
        "id": "M3zH9DWV0PEC",
        "colab_type": "code",
        "colab": {
          "base_uri": "https://localhost:8080/",
          "height": 34
        },
        "outputId": "6b3abe67-1d88-46b4-8cb1-41779db3b3bf"
      },
      "source": [
        "linha = 'Título da transação, Descrição, Data, Valor' + '\\n'\n",
        "arquivo.write(linha)"
      ],
      "execution_count": null,
      "outputs": [
        {
          "output_type": "execute_result",
          "data": {
            "text/plain": [
              "44"
            ]
          },
          "metadata": {
            "tags": []
          },
          "execution_count": 12
        }
      ]
    },
    {
      "cell_type": "code",
      "metadata": {
        "id": "xt0f2TAGvXp5",
        "colab_type": "code",
        "colab": {}
      },
      "source": [
        "for i in range(len(card_statements)):\n",
        "  linha = card_statements[i]['title'] + ',' + card_statements[i]['description'] + ',' + str(card_statements[i]['time']) + ',' + str(card_statements[i]['amount']) + '\\n'\n",
        "  arquivo.write(linha)"
      ],
      "execution_count": null,
      "outputs": []
    },
    {
      "cell_type": "code",
      "metadata": {
        "id": "dylXpKL47QQn",
        "colab_type": "code",
        "colab": {}
      },
      "source": [
        "arquivo.close()"
      ],
      "execution_count": null,
      "outputs": []
    },
    {
      "cell_type": "markdown",
      "metadata": {
        "id": "tQ3w6ZXM2PEX",
        "colab_type": "text"
      },
      "source": [
        "Pegando informações sobre a Nuconta\n"
      ]
    },
    {
      "cell_type": "code",
      "metadata": {
        "id": "tXH-OpeX0tps",
        "colab_type": "code",
        "colab": {
          "base_uri": "https://localhost:8080/",
          "height": 34
        },
        "outputId": "83b4d0be-c711-4412-91df-c18926084f9c"
      },
      "source": [
        "try:\n",
        "  os.remove(\"nuconta.txt\")\n",
        "except:\n",
        "  print('Arquivo não existente')"
      ],
      "execution_count": null,
      "outputs": [
        {
          "output_type": "stream",
          "text": [
            "Arquivo não existente\n"
          ],
          "name": "stdout"
        }
      ]
    },
    {
      "cell_type": "code",
      "metadata": {
        "id": "2ZU-dCf42fub",
        "colab_type": "code",
        "colab": {}
      },
      "source": [
        "arquivoAccount = open('nuconta.txt', 'w')"
      ],
      "execution_count": null,
      "outputs": []
    },
    {
      "cell_type": "code",
      "metadata": {
        "id": "FdD7FhylxBgJ",
        "colab_type": "code",
        "colab": {
          "base_uri": "https://localhost:8080/",
          "height": 34
        },
        "outputId": "5efd95e9-1233-4133-c8e0-1ce6d7ffee2c"
      },
      "source": [
        "linha = 'Título da transação; Descrição; Data; Valor' + '\\n'\n",
        "arquivoAccount.write(linha)\n"
      ],
      "execution_count": null,
      "outputs": [
        {
          "output_type": "execute_result",
          "data": {
            "text/plain": [
              "44"
            ]
          },
          "metadata": {
            "tags": []
          },
          "execution_count": 17
        }
      ]
    },
    {
      "cell_type": "code",
      "metadata": {
        "id": "i0ulnF_PgN4S",
        "colab_type": "code",
        "colab": {}
      },
      "source": [
        "for i in range(len(account_statements)):\n",
        "  if str(account_statements[i]['__typename']) == 'TransferInEvent':\n",
        "    linha = account_statements[i]['title'] + \";\" + str(account_statements[i]['detail']) + \";\"  + str(account_statements[i]['postDate']) + \";\"  + str(account_statements[i]['detail']).replace('R$','').replace(' ','') + '\\n'\n",
        "  \n",
        "  else:\n",
        "\n",
        "    if str(account_statements[i]['__typename']) == 'BarcodePaymentEvent':\n",
        "      linha = account_statements[i]['title'] + \";\" + str(account_statements[i]['detail']) + \";\"  + str(account_statements[i]['postDate']) + \";\"  + str(account_statements[i]['amount']).replace('.',',').replace('.','') + '\\n'\n",
        "\n",
        "    else:\n",
        "      linha = account_statements[i]['title'] + \";\" + str(account_statements[i]['detail']).split('-')[0] + \";\"  + str(account_statements[i]['postDate']) + \";\"  + str(account_statements[i]['detail']).split('-')[1].replace('R$','').replace(' ','') + '\\n'\n",
        "    \n",
        "  arquivoAccount.write(linha)"
      ],
      "execution_count": null,
      "outputs": []
    },
    {
      "cell_type": "code",
      "metadata": {
        "id": "PDnnGT0F3OJp",
        "colab_type": "code",
        "colab": {}
      },
      "source": [
        "arquivoAccount.close()"
      ],
      "execution_count": null,
      "outputs": []
    },
    {
      "cell_type": "code",
      "metadata": {
        "id": "yAP0o-KNizzx",
        "colab_type": "code",
        "colab": {
          "base_uri": "https://localhost:8080/",
          "height": 17
        },
        "outputId": "b34246ef-8fd3-4f57-8d22-2623197d8c46"
      },
      "source": [
        "from google.colab import files\n",
        "files.download('cartao.txt')\n",
        "files.download('nuconta.txt')\n"
      ],
      "execution_count": null,
      "outputs": [
        {
          "output_type": "display_data",
          "data": {
            "application/javascript": [
              "\n",
              "    async function download(id, filename, size) {\n",
              "      if (!google.colab.kernel.accessAllowed) {\n",
              "        return;\n",
              "      }\n",
              "      const div = document.createElement('div');\n",
              "      const label = document.createElement('label');\n",
              "      label.textContent = `Downloading \"${filename}\": `;\n",
              "      div.appendChild(label);\n",
              "      const progress = document.createElement('progress');\n",
              "      progress.max = size;\n",
              "      div.appendChild(progress);\n",
              "      document.body.appendChild(div);\n",
              "\n",
              "      const buffers = [];\n",
              "      let downloaded = 0;\n",
              "\n",
              "      const channel = await google.colab.kernel.comms.open(id);\n",
              "      // Send a message to notify the kernel that we're ready.\n",
              "      channel.send({})\n",
              "\n",
              "      for await (const message of channel.messages) {\n",
              "        // Send a message to notify the kernel that we're ready.\n",
              "        channel.send({})\n",
              "        if (message.buffers) {\n",
              "          for (const buffer of message.buffers) {\n",
              "            buffers.push(buffer);\n",
              "            downloaded += buffer.byteLength;\n",
              "            progress.value = downloaded;\n",
              "          }\n",
              "        }\n",
              "      }\n",
              "      const blob = new Blob(buffers, {type: 'application/binary'});\n",
              "      const a = document.createElement('a');\n",
              "      a.href = window.URL.createObjectURL(blob);\n",
              "      a.download = filename;\n",
              "      div.appendChild(a);\n",
              "      a.click();\n",
              "      div.remove();\n",
              "    }\n",
              "  "
            ],
            "text/plain": [
              "<IPython.core.display.Javascript object>"
            ]
          },
          "metadata": {
            "tags": []
          }
        },
        {
          "output_type": "display_data",
          "data": {
            "application/javascript": [
              "download(\"download_d173f70b-f5dd-49e9-ac8b-4305ab1c4b45\", \"cartao.txt\", 111988)"
            ],
            "text/plain": [
              "<IPython.core.display.Javascript object>"
            ]
          },
          "metadata": {
            "tags": []
          }
        },
        {
          "output_type": "display_data",
          "data": {
            "application/javascript": [
              "\n",
              "    async function download(id, filename, size) {\n",
              "      if (!google.colab.kernel.accessAllowed) {\n",
              "        return;\n",
              "      }\n",
              "      const div = document.createElement('div');\n",
              "      const label = document.createElement('label');\n",
              "      label.textContent = `Downloading \"${filename}\": `;\n",
              "      div.appendChild(label);\n",
              "      const progress = document.createElement('progress');\n",
              "      progress.max = size;\n",
              "      div.appendChild(progress);\n",
              "      document.body.appendChild(div);\n",
              "\n",
              "      const buffers = [];\n",
              "      let downloaded = 0;\n",
              "\n",
              "      const channel = await google.colab.kernel.comms.open(id);\n",
              "      // Send a message to notify the kernel that we're ready.\n",
              "      channel.send({})\n",
              "\n",
              "      for await (const message of channel.messages) {\n",
              "        // Send a message to notify the kernel that we're ready.\n",
              "        channel.send({})\n",
              "        if (message.buffers) {\n",
              "          for (const buffer of message.buffers) {\n",
              "            buffers.push(buffer);\n",
              "            downloaded += buffer.byteLength;\n",
              "            progress.value = downloaded;\n",
              "          }\n",
              "        }\n",
              "      }\n",
              "      const blob = new Blob(buffers, {type: 'application/binary'});\n",
              "      const a = document.createElement('a');\n",
              "      a.href = window.URL.createObjectURL(blob);\n",
              "      a.download = filename;\n",
              "      div.appendChild(a);\n",
              "      a.click();\n",
              "      div.remove();\n",
              "    }\n",
              "  "
            ],
            "text/plain": [
              "<IPython.core.display.Javascript object>"
            ]
          },
          "metadata": {
            "tags": []
          }
        },
        {
          "output_type": "display_data",
          "data": {
            "application/javascript": [
              "download(\"download_c8d8d5b0-db7d-499a-8be8-9554db412e64\", \"nuconta.txt\", 21895)"
            ],
            "text/plain": [
              "<IPython.core.display.Javascript object>"
            ]
          },
          "metadata": {
            "tags": []
          }
        }
      ]
    }
  ]
}