{
  "nbformat": 4,
  "nbformat_minor": 0,
  "metadata": {
    "colab": {
      "name": "NuBank",
      "provenance": [],
      "collapsed_sections": []
    },
    "kernelspec": {
      "name": "python3",
      "display_name": "Python 3"
    }
  },
  "cells": [
    {
      "cell_type": "code",
      "metadata": {
        "id": "OzuQkvLRwiEu",
        "colab_type": "code",
        "colab": {}
      },
      "source": [
        "import os"
      ],
      "execution_count": 1,
      "outputs": []
    },
    {
      "cell_type": "markdown",
      "metadata": {
        "id": "tqS5KGSMfO-J",
        "colab_type": "text"
      },
      "source": [
        "Informe os dados de sua Nuconta: <br>\n",
        "- O CPF não deve conter pontos e traços <br>\n",
        "- A senha possui 8 dígitos, é a mesma senha utilizada para logar no Nubank web\n"
      ]
    },
    {
      "cell_type": "code",
      "metadata": {
        "id": "e6vFyh3QpS7j",
        "colab_type": "code",
        "colab": {}
      },
      "source": [
        "cpf = ''\n",
        "senha = ''"
      ],
      "execution_count": 2,
      "outputs": []
    },
    {
      "cell_type": "code",
      "metadata": {
        "id": "kC2XX-icokmo",
        "colab_type": "code",
        "colab": {
          "base_uri": "https://localhost:8080/",
          "height": 530
        },
        "outputId": "e8d4f623-cf6b-4526-8181-6a38a7db9a64"
      },
      "source": [
        "!pip install pynubank"
      ],
      "execution_count": 3,
      "outputs": [
        {
          "output_type": "stream",
          "text": [
            "Collecting pynubank\n",
            "  Downloading https://files.pythonhosted.org/packages/1b/20/d36b41bd0c6f8c28ca598a8ddbe99ad62fad3b9a2e3c9d344331a2afaa47/pynubank-2.4.0.tar.gz\n",
            "Requirement already satisfied: requests in /usr/local/lib/python3.6/dist-packages (from pynubank) (2.23.0)\n",
            "Collecting qrcode\n",
            "  Downloading https://files.pythonhosted.org/packages/42/87/4a3a77e59ab7493d64da1f69bf1c2e899a4cf81e51b2baa855e8cc8115be/qrcode-6.1-py2.py3-none-any.whl\n",
            "Collecting pyOpenSSL\n",
            "\u001b[?25l  Downloading https://files.pythonhosted.org/packages/9e/de/f8342b68fa9e981d348039954657bdf681b2ab93de27443be51865ffa310/pyOpenSSL-19.1.0-py2.py3-none-any.whl (53kB)\n",
            "\u001b[K     |████████████████████████████████| 61kB 4.7MB/s \n",
            "\u001b[?25hCollecting colorama\n",
            "  Downloading https://files.pythonhosted.org/packages/c9/dc/45cdef1b4d119eb96316b3117e6d5708a08029992b2fee2c143c7a0a5cc5/colorama-0.4.3-py2.py3-none-any.whl\n",
            "Collecting requests-pkcs12\n",
            "  Downloading https://files.pythonhosted.org/packages/3d/6c/a9a76de856d6a0e5a793fa7947ec248fe291d91949dd1d27c3c28c6f53b8/requests_pkcs12-1.8-py2.py3-none-any.whl\n",
            "Requirement already satisfied: idna<3,>=2.5 in /usr/local/lib/python3.6/dist-packages (from requests->pynubank) (2.10)\n",
            "Requirement already satisfied: chardet<4,>=3.0.2 in /usr/local/lib/python3.6/dist-packages (from requests->pynubank) (3.0.4)\n",
            "Requirement already satisfied: certifi>=2017.4.17 in /usr/local/lib/python3.6/dist-packages (from requests->pynubank) (2020.6.20)\n",
            "Requirement already satisfied: urllib3!=1.25.0,!=1.25.1,<1.26,>=1.21.1 in /usr/local/lib/python3.6/dist-packages (from requests->pynubank) (1.24.3)\n",
            "Requirement already satisfied: six in /usr/local/lib/python3.6/dist-packages (from qrcode->pynubank) (1.15.0)\n",
            "Collecting cryptography>=2.8\n",
            "\u001b[?25l  Downloading https://files.pythonhosted.org/packages/c0/9c/647e559a6e8be493dc2a7a5d15d26cb501ca60ec299b356f23839a673a83/cryptography-3.1-cp35-abi3-manylinux2010_x86_64.whl (2.6MB)\n",
            "\u001b[K     |████████████████████████████████| 2.6MB 8.9MB/s \n",
            "\u001b[?25hRequirement already satisfied: cffi!=1.11.3,>=1.8 in /usr/local/lib/python3.6/dist-packages (from cryptography>=2.8->pyOpenSSL->pynubank) (1.14.2)\n",
            "Requirement already satisfied: pycparser in /usr/local/lib/python3.6/dist-packages (from cffi!=1.11.3,>=1.8->cryptography>=2.8->pyOpenSSL->pynubank) (2.20)\n",
            "Building wheels for collected packages: pynubank\n",
            "  Building wheel for pynubank (setup.py) ... \u001b[?25l\u001b[?25hdone\n",
            "  Created wheel for pynubank: filename=pynubank-2.4.0-cp36-none-any.whl size=20616 sha256=02b38685a26583228f8dbd7c6cf7603569f7d7fbaaa3eed0d5abb7ddc911ed37\n",
            "  Stored in directory: /root/.cache/pip/wheels/88/ed/c8/b04acda4765af4c7eb6b2f3983337a262d86191359ce06c072\n",
            "Successfully built pynubank\n",
            "Installing collected packages: qrcode, cryptography, pyOpenSSL, colorama, requests-pkcs12, pynubank\n",
            "Successfully installed colorama-0.4.3 cryptography-3.1 pyOpenSSL-19.1.0 pynubank-2.4.0 qrcode-6.1 requests-pkcs12-1.8\n"
          ],
          "name": "stdout"
        }
      ]
    },
    {
      "cell_type": "markdown",
      "metadata": {},
      "source": [
        "Nesse momento será printado o QRCode no console\n",
        "Você precisa escanear pelo o seu app do celular\n",
        "Esse menu fica em NU > Perfil > Acesso pelo site"
      ]
    },
    {
      "cell_type": "code",
      "metadata": {
        "id": "uWvMq3uGorQc",
        "colab_type": "code",
        "colab": {
          "base_uri": "https://localhost:8080/",
          "height": 357
        },
        "outputId": "558a090b-02a5-49f8-d9d5-e03b380b85ca"
      },
      "source": [
        "from pynubank import Nubank\n",
        "\n",
        "nu = Nubank()\n",
        "uuid, qr_code = nu.get_qr_code()\n",
        "qr_code.print_ascii(invert=True)\n",
        "input('Após escanear o QRCode pressione enter para continuar')\n",
        "nu.authenticate_with_qr_code(cpf, senha, uuid)"
      ],
      "execution_count": 4,
      "outputs": [
        {
          "output_type": "stream",
          "text": [
            "█████████████████████████████████████\n",
            "█████████████████████████████████████\n",
            "████ ▄▄▄▄▄ ██▄▀█  ▀ █▄▀▄██ ▄▄▄▄▄ ████\n",
            "████ █   █ █ █ ▀▀▄▀▀▄▀▀▄ █ █   █ ████\n",
            "████ █▄▄▄█ █ ▄▄▀███▀ ▄▄▄██ █▄▄▄█ ████\n",
            "████▄▄▄▄▄▄▄█ ▀▄█ █ ▀▄█▄█ █▄▄▄▄▄▄▄████\n",
            "████▄▀▄▄▄ ▄██▄█▄█▀▀▄▄▄▄▀▄█ ▄ ▄▄█▀████\n",
            "████ ▄ ▄█▀▄▀▀▄█   ▄▄▀███▄███▀▄▄ █████\n",
            "████ ▀▄▀█ ▄██  ▀ █▄▄▄▄▀▀▀ ▀▀▀▄▄▄ ████\n",
            "████▄██▀█▀▄ ▀█▀▄▀█▀  █▀█ █▄▄▀▀▄▄█████\n",
            "████▀█▀▀▀▄▄▀█▀█▀▄▀▀▄▀▄▀ █▄▀▄▀█▄▄ ████\n",
            "████ █▄▄▀█▄ █ ███ ▄  ▄▄▀▄▀█  █▄ ▀████\n",
            "████▄██▄▄█▄█▀▄▀▄▄█▄▄▀▄▄▀ ▄▄▄ ▄  ▀████\n",
            "████ ▄▄▄▄▄ █▀▄█▀██▀▄▀█▄▄ █▄█ ██▀█████\n",
            "████ █   █ █ ▄ ▀██▀▄▄▄▄▀▄▄▄▄▄▄▄▀▀████\n",
            "████ █▄▄▄█ █▄▄▀▄▄██▄▀██▀ ▄▄  █▄ █████\n",
            "████▄▄▄▄▄▄▄█▄▄▄▄██▄▄█▄█████▄██▄██████\n",
            "█████████████████████████████████████\n",
            "▀▀▀▀▀▀▀▀▀▀▀▀▀▀▀▀▀▀▀▀▀▀▀▀▀▀▀▀▀▀▀▀▀▀▀▀▀\n",
            "Após escanear o QRCode pressione enter para continuar\n"
          ],
          "name": "stdout"
        }
      ]
    },
    {
      "cell_type": "code",
      "execution_count": null,
      "metadata": {},
      "outputs": [],
      "source": [
        "Daqui pra frente é só executar"
      ]
    },
    {
      "cell_type": "code",
      "metadata": {
        "id": "NrpUm7Jlo6ei",
        "colab_type": "code",
        "colab": {}
      },
      "source": [
        "card_statements = nu.get_card_statements()\n",
        "account_statements = nu.get_account_statements()"
      ],
      "execution_count": 5,
      "outputs": []
    },
    {
      "cell_type": "markdown",
      "metadata": {
        "id": "NkKEGpft1uUK",
        "colab_type": "text"
      },
      "source": [
        "Pegando informaçãoes sobre o cartão de crédito\n"
      ]
    },
    {
      "cell_type": "code",
      "metadata": {
        "id": "q-tOydl3px3y",
        "colab_type": "code",
        "colab": {
          "base_uri": "https://localhost:8080/",
          "height": 34
        },
        "outputId": "c44d06ae-d0f6-441b-c18a-fb5d84a0cdbd"
      },
      "source": [
        "try:\n",
        "  os.remove(\"cartao.txt\")\n",
        "except:\n",
        "  print('Arquivo não existente')"
      ],
      "execution_count": 6,
      "outputs": [
        {
          "output_type": "stream",
          "text": [
            "Arquivo não existente\n"
          ],
          "name": "stdout"
        }
      ]
    },
    {
      "cell_type": "code",
      "metadata": {
        "id": "K2_TANnM7H1s",
        "colab_type": "code",
        "colab": {}
      },
      "source": [
        "arquivo = open('cartao.txt', 'w')"
      ],
      "execution_count": 7,
      "outputs": []
    },
    {
      "cell_type": "code",
      "metadata": {
        "id": "M3zH9DWV0PEC",
        "colab_type": "code",
        "colab": {
          "base_uri": "https://localhost:8080/",
          "height": 34
        },
        "outputId": "9d21421e-1e2f-43c3-948c-59096389354a"
      },
      "source": [
        "linha = 'Título da transação, Descrição, Data, Valor' + '\\n'\n",
        "arquivo.write(linha)"
      ],
      "execution_count": 8,
      "outputs": [
        {
          "output_type": "execute_result",
          "data": {
            "text/plain": [
              "44"
            ]
          },
          "metadata": {
            "tags": []
          },
          "execution_count": 8
        }
      ]
    },
    {
      "cell_type": "code",
      "metadata": {
        "id": "xt0f2TAGvXp5",
        "colab_type": "code",
        "colab": {}
      },
      "source": [
        "for i in range(len(card_statements)):\n",
        "  linha = card_statements[i]['title'] + ',' + card_statements[i]['description'] + ',' + str(card_statements[i]['time']) + ',' + str(card_statements[i]['amount']) + '\\n'\n",
        "  arquivo.write(linha)"
      ],
      "execution_count": 9,
      "outputs": []
    },
    {
      "cell_type": "code",
      "metadata": {
        "id": "dylXpKL47QQn",
        "colab_type": "code",
        "colab": {}
      },
      "source": [
        "arquivo.close()"
      ],
      "execution_count": 10,
      "outputs": []
    },
    {
      "cell_type": "markdown",
      "metadata": {
        "id": "tQ3w6ZXM2PEX",
        "colab_type": "text"
      },
      "source": [
        "Pegando informações sobre a Nuconta\n"
      ]
    },
    {
      "cell_type": "code",
      "metadata": {
        "id": "tXH-OpeX0tps",
        "colab_type": "code",
        "colab": {
          "base_uri": "https://localhost:8080/",
          "height": 34
        },
        "outputId": "e209840c-521d-4c25-fa4f-6a21478b9bdb"
      },
      "source": [
        "try:\n",
        "  os.remove(\"nuconta.txt\")\n",
        "except:\n",
        "  print('Arquivo não existente')"
      ],
      "execution_count": 11,
      "outputs": [
        {
          "output_type": "stream",
          "text": [
            "Arquivo não existente\n"
          ],
          "name": "stdout"
        }
      ]
    },
    {
      "cell_type": "code",
      "metadata": {
        "id": "2ZU-dCf42fub",
        "colab_type": "code",
        "colab": {}
      },
      "source": [
        "arquivoAccount = open('nuconta.txt', 'w')"
      ],
      "execution_count": 12,
      "outputs": []
    },
    {
      "cell_type": "code",
      "metadata": {
        "id": "FdD7FhylxBgJ",
        "colab_type": "code",
        "colab": {
          "base_uri": "https://localhost:8080/",
          "height": 34
        },
        "outputId": "483b0fb0-00a7-4278-c86a-1941b28f5d13"
      },
      "source": [
        "linha = 'Título da transação; Descrição; Data; Valor' + '\\n'\n",
        "arquivoAccount.write(linha)\n"
      ],
      "execution_count": 13,
      "outputs": [
        {
          "output_type": "execute_result",
          "data": {
            "text/plain": [
              "44"
            ]
          },
          "metadata": {
            "tags": []
          },
          "execution_count": 13
        }
      ]
    },
    {
      "cell_type": "code",
      "metadata": {
        "id": "i0ulnF_PgN4S",
        "colab_type": "code",
        "colab": {}
      },
      "source": [
        "for i in range(len(account_statements)):\n",
        "  if str(account_statements[i]['__typename']) == 'TransferInEvent':\n",
        "    linha = account_statements[i]['title'] + \";\" + str(account_statements[i]['detail']) + \";\"  + str(account_statements[i]['postDate']) + \";\"  + str(account_statements[i]['detail']).replace('R$','').replace(' ','') + '\\n'\n",
        "  \n",
        "  else:\n",
        "\n",
        "    if str(account_statements[i]['__typename']) == 'BarcodePaymentEvent':\n",
        "      linha = account_statements[i]['title'] + \";\" + str(account_statements[i]['detail']) + \";\"  + str(account_statements[i]['postDate']) + \";\"  + str(account_statements[i]['amount']).replace('.',',').replace('.','') + '\\n'\n",
        "\n",
        "    else:\n",
        "      linha = account_statements[i]['title'] + \";\" + str(account_statements[i]['detail']).split('-')[0] + \";\"  + str(account_statements[i]['postDate']) + \";\"  + str(account_statements[i]['detail']).split('-')[1].replace('R$','').replace(' ','') + '\\n'\n",
        "    \n",
        "  arquivoAccount.write(linha)"
      ],
      "execution_count": 14,
      "outputs": []
    },
    {
      "cell_type": "code",
      "metadata": {
        "id": "PDnnGT0F3OJp",
        "colab_type": "code",
        "colab": {}
      },
      "source": [
        "arquivoAccount.close()"
      ],
      "execution_count": 15,
      "outputs": []
    },
    {
      "cell_type": "code",
      "metadata": {
        "id": "yAP0o-KNizzx",
        "colab_type": "code",
        "colab": {
          "base_uri": "https://localhost:8080/",
          "height": 17
        },
        "outputId": "5425d559-f31b-49a6-c14e-573d9f07c43b"
      },
      "source": [
        "from google.colab import files\n",
        "files.download('cartao.txt')\n",
        "files.download('nuconta.txt')\n"
      ],
      "execution_count": 16,
      "outputs": [
        {
          "output_type": "display_data",
          "data": {
            "application/javascript": [
              "\n",
              "    async function download(id, filename, size) {\n",
              "      if (!google.colab.kernel.accessAllowed) {\n",
              "        return;\n",
              "      }\n",
              "      const div = document.createElement('div');\n",
              "      const label = document.createElement('label');\n",
              "      label.textContent = `Downloading \"${filename}\": `;\n",
              "      div.appendChild(label);\n",
              "      const progress = document.createElement('progress');\n",
              "      progress.max = size;\n",
              "      div.appendChild(progress);\n",
              "      document.body.appendChild(div);\n",
              "\n",
              "      const buffers = [];\n",
              "      let downloaded = 0;\n",
              "\n",
              "      const channel = await google.colab.kernel.comms.open(id);\n",
              "      // Send a message to notify the kernel that we're ready.\n",
              "      channel.send({})\n",
              "\n",
              "      for await (const message of channel.messages) {\n",
              "        // Send a message to notify the kernel that we're ready.\n",
              "        channel.send({})\n",
              "        if (message.buffers) {\n",
              "          for (const buffer of message.buffers) {\n",
              "            buffers.push(buffer);\n",
              "            downloaded += buffer.byteLength;\n",
              "            progress.value = downloaded;\n",
              "          }\n",
              "        }\n",
              "      }\n",
              "      const blob = new Blob(buffers, {type: 'application/binary'});\n",
              "      const a = document.createElement('a');\n",
              "      a.href = window.URL.createObjectURL(blob);\n",
              "      a.download = filename;\n",
              "      div.appendChild(a);\n",
              "      a.click();\n",
              "      div.remove();\n",
              "    }\n",
              "  "
            ],
            "text/plain": [
              "<IPython.core.display.Javascript object>"
            ]
          },
          "metadata": {
            "tags": []
          }
        },
        {
          "output_type": "display_data",
          "data": {
            "application/javascript": [
              "download(\"download_a16df10f-9b7d-4ac6-8e59-1e904a2a357a\", \"cartao.txt\", 111988)"
            ],
            "text/plain": [
              "<IPython.core.display.Javascript object>"
            ]
          },
          "metadata": {
            "tags": []
          }
        },
        {
          "output_type": "display_data",
          "data": {
            "application/javascript": [
              "\n",
              "    async function download(id, filename, size) {\n",
              "      if (!google.colab.kernel.accessAllowed) {\n",
              "        return;\n",
              "      }\n",
              "      const div = document.createElement('div');\n",
              "      const label = document.createElement('label');\n",
              "      label.textContent = `Downloading \"${filename}\": `;\n",
              "      div.appendChild(label);\n",
              "      const progress = document.createElement('progress');\n",
              "      progress.max = size;\n",
              "      div.appendChild(progress);\n",
              "      document.body.appendChild(div);\n",
              "\n",
              "      const buffers = [];\n",
              "      let downloaded = 0;\n",
              "\n",
              "      const channel = await google.colab.kernel.comms.open(id);\n",
              "      // Send a message to notify the kernel that we're ready.\n",
              "      channel.send({})\n",
              "\n",
              "      for await (const message of channel.messages) {\n",
              "        // Send a message to notify the kernel that we're ready.\n",
              "        channel.send({})\n",
              "        if (message.buffers) {\n",
              "          for (const buffer of message.buffers) {\n",
              "            buffers.push(buffer);\n",
              "            downloaded += buffer.byteLength;\n",
              "            progress.value = downloaded;\n",
              "          }\n",
              "        }\n",
              "      }\n",
              "      const blob = new Blob(buffers, {type: 'application/binary'});\n",
              "      const a = document.createElement('a');\n",
              "      a.href = window.URL.createObjectURL(blob);\n",
              "      a.download = filename;\n",
              "      div.appendChild(a);\n",
              "      a.click();\n",
              "      div.remove();\n",
              "    }\n",
              "  "
            ],
            "text/plain": [
              "<IPython.core.display.Javascript object>"
            ]
          },
          "metadata": {
            "tags": []
          }
        },
        {
          "output_type": "display_data",
          "data": {
            "application/javascript": [
              "download(\"download_fe2ff77e-43fe-4f2e-9973-b1d6825a86ab\", \"nuconta.txt\", 21786)"
            ],
            "text/plain": [
              "<IPython.core.display.Javascript object>"
            ]
          },
          "metadata": {
            "tags": []
          }
        }
      ]
    }
  ]
}